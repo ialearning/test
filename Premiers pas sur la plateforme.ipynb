{
 "cells": [
  {
   "cell_type": "code",
   "execution_count": 1,
   "metadata": {
    "deletable": false,
    "editable": false,
    "hide_input": true
   },
   "outputs": [],
   "source": [
    "from IPython.display import HTML\n",
    "import random\n",
    "\n",
    "def hide_toggle(for_next=False):\n",
    "    this_cell = \"\"\"$('div.cell.code_cell.rendered.selected')\"\"\"\n",
    "    next_cell = this_cell + '.next()'\n",
    "\n",
    "    toggle_text = 'Toggle show/hide'  # text shown on toggle link\n",
    "    target_cell = this_cell  # target cell to control with toggle\n",
    "    js_hide_current = ''  # bit of JS to permanently hide code in current cell (only when toggling next cell)\n",
    "\n",
    "    if for_next:\n",
    "        target_cell = next_cell\n",
    "        toggle_text += ' next cell'\n",
    "        js_hide_current = this_cell + '.find(\"div.input\").hide();'\n",
    "\n",
    "    js_f_name = 'code_toggle_{}'.format(str(random.randint(1,2**64)))\n",
    "\n",
    "    html = \"\"\"\n",
    "        <script>\n",
    "            function {f_name}() {{\n",
    "                {cell_selector}.find('div.input').toggle();\n",
    "            }}\n",
    "\n",
    "            {js_hide_current}\n",
    "        </script>\n",
    "     \n",
    "        <form action=\"javascript:{f_name}()\"><input type=\"submit\" id=\"toggleButton\" value=\"Solution\" ></form>\n",
    "    \"\"\".format(\n",
    "        f_name=js_f_name,\n",
    "        cell_selector=target_cell,\n",
    "        js_hide_current=js_hide_current, \n",
    "        toggle_text=toggle_text\n",
    "    )\n",
    "\n",
    "    return HTML(html)"
   ]
  },
  {
   "cell_type": "markdown",
   "metadata": {},
   "source": [
    "<img src=\"python-logo.png\" ,height=200,width=200>"
   ]
  },
  {
   "cell_type": "markdown",
   "metadata": {
    "deletable": false,
    "editable": false,
    "run_control": {
     "frozen": true
    }
   },
   "source": [
    "<hr style=\"border: continue rgb(0,170,0) 1.0px;background-color: rgb(0,170,0);height: 2.0px;\"/>\n",
    "<center><b><font size= '5' color = '#087CC5' face= 'arial'>Premiers pas sur la plateforme </font></b></center>\n",
    "<hr style=\"border: continue rgb(0,170,0) 1.0px;background-color: rgb(0,170,0);height: 2.0px;\"/>"
   ]
  },
  {
   "cell_type": "markdown",
   "metadata": {},
   "source": [
    "<u><b><font size = 3 color = '#087CC5' face= 'arial'>Bienvenue sur la plateforme DataScientest!</font></b></u>"
   ]
  },
  {
   "cell_type": "markdown",
   "metadata": {
    "deletable": false,
    "editable": false,
    "run_control": {
     "frozen": true
    }
   },
   "source": [
    "<blockquote><p>Notre plateforme de formation à la _data-science_ est **sécurisée** et **accessible 24h/24, 7j/7** depuis n'importe quel terminal ayant accès à internet. Vous avez donc la possibilité de travailler aussi bien depuis votre poste de travail que depuis votre ordinateur personnel.</p>\n",
    "   \n",
    "<p>Nos formations adoptent la pédagogie du _\"learning by doing\"_ : pour chaque notion abordée sur notre plateforme, il vous sera demandé de la mettre en pratique en codant. Cette pédagogie vous permettra d'apprendre à votre rythme et de manière autonome avec pour objectif d'obtenir des certifications de compétences en data-science correspondant à votre parcours pédagogique.<p>\n",
    "\n",
    "<p>En pratique, la formation est découpée en _modules_, composées eux-mêmes de _workshops_, qui reposent sur l'utilisation de la technologie **Jupyter Notebook**.</p>\n",
    "\n",
    "<p>Les notebooks _Jupyter_ constituent le format idéal pour apprendre la _data-science_ :</p>\n",
    "\n",
    "<p>Ils sont constitués d'une succession de cellules markdown (langage simple de mise en forme de texte) et de cellules de code. Ce format vous permettra d'apprendre des notions théoriques ou techniques et de les mettre en pratique sur un unique support.</p>\n",
    "\n",
    "<p>Les notebooks jupyter sont très répandus dans la communauté des _data-scientists_ et présentent de nombreuses fonctionnalités. Ci-dessous, nous vous introduisons les fonctionnalités les plus importantes pour suivre la formation dans les meilleures conditions.</p>\n",
    "</blockquote>"
   ]
  },
  {
   "cell_type": "markdown",
   "metadata": {
    "deletable": false,
    "editable": false,
    "run_control": {
     "frozen": true
    }
   },
   "source": [
    "<u><b><font size = 3 color = '#087CC5' face= 'arial'>Introduction aux fonctionnalités des notebooks</font></b></u>"
   ]
  },
  {
   "cell_type": "markdown",
   "metadata": {
    "deletable": false,
    "editable": false,
    "run_control": {
     "frozen": true
    }
   },
   "source": [
    "<blockquote><p>Lorsque vous insérez du code dans une cellule, il faut le transmettre à l'interpréteur Python afin qu'il soit exécuté.</p>\n",
    "\n",
    "<div class=\"alert alert-block alert-success\"></b>  Pour exécuter une cellule : utiliser le bouton **Run Cell** en haut à gauche ou le raccourci clavier :  **Ctrl + Entrée**\n",
    "</div>\n",
    "</blockquote>"
   ]
  },
  {
   "cell_type": "markdown",
   "metadata": {
    "deletable": false,
    "editable": false,
    "run_control": {
     "frozen": true
    }
   },
   "source": [
    "* Exécuter la cellule suivante."
   ]
  },
  {
   "cell_type": "markdown",
   "metadata": {
    "deletable": false,
    "editable": false,
    "run_control": {
     "frozen": true
    }
   },
   "source": [
    "<blockquote>_NB : La cellule ne doit rien produire en sortie_</blockquote>"
   ]
  },
  {
   "cell_type": "code",
   "execution_count": 6,
   "metadata": {},
   "outputs": [],
   "source": [
    "def print_message(a=1) :\n",
    "    print(\"Bravo, vous venez d'exécuter votre %ie cellule !\" %a)"
   ]
  },
  {
   "cell_type": "markdown",
   "metadata": {
    "deletable": false,
    "editable": false,
    "run_control": {
     "frozen": true
    }
   },
   "source": [
    "<blockquote><p>L'exécution de la cellule ci-dessus n'a produit aucun résultat en sortie. L'instruction a cependant eu un effet, la fonction **print_message** a été créée. Le numéro entre crochet sur la gauche est un compteur. Il est incrémenté à chaque fois qu'une cellule finit d'être exécutée.</p>\n",
    "\n",
    "<p>Les packages importés ou les objets créés dans une cellule sont ensuite disponibles dans le reste de la page. Par exemple, la fonction définie dans la cellule ci-dessus peut être appelée dans n'importe qu'elle cellule de code.</p>\n",
    "\n",
    "<p><div class=\"alert alert-block alert-info\">\n",
    "Tout au long de la formation, vous aurez à répondre à un certain nombre de questions, sous forme de code. Pour chaque question, une cellule à remplir est mise à votre disposition pour y répondre, et un bouton <b>\"Voir une solution\"</b> vous permet d'afficher une solution proposée.\n",
    "</div></p>\n",
    "</blockquote>\n"
   ]
  },
  {
   "cell_type": "markdown",
   "metadata": {
    "deletable": false,
    "editable": false,
    "run_control": {
     "frozen": true
    }
   },
   "source": [
    "* Appeler la fonction print_message avec le paramètre a = 2"
   ]
  },
  {
   "cell_type": "code",
   "execution_count": 7,
   "metadata": {},
   "outputs": [
    {
     "name": "stdout",
     "output_type": "stream",
     "text": [
      "Bravo, vous venez d'exécuter votre 2e cellule !\n"
     ]
    }
   ],
   "source": [
    "## Insérer votre code ici\n",
    "print_message(a=2)"
   ]
  },
  {
   "cell_type": "code",
   "execution_count": 2,
   "metadata": {
    "deletable": false,
    "editable": false,
    "run_control": {
     "frozen": true
    },
    "scrolled": true
   },
   "outputs": [
    {
     "data": {
      "text/html": [
       "\n",
       "        <script>\n",
       "            function code_toggle_6439663743660001674() {\n",
       "                $('div.cell.code_cell.rendered.selected').next().find('div.input').toggle();\n",
       "            }\n",
       "\n",
       "            $('div.cell.code_cell.rendered.selected').find(\"div.input\").hide();\n",
       "        </script>\n",
       "     \n",
       "        <form action=\"javascript:code_toggle_6439663743660001674()\"><input type=\"submit\" id=\"toggleButton\" value=\"Solution\" ></form>\n",
       "    "
      ],
      "text/plain": [
       "<IPython.core.display.HTML object>"
      ]
     },
     "execution_count": 2,
     "metadata": {},
     "output_type": "execute_result"
    }
   ],
   "source": [
    "hide_toggle(for_next=True)"
   ]
  },
  {
   "cell_type": "code",
   "execution_count": null,
   "metadata": {},
   "outputs": [],
   "source": [
    "print_message(a=2)"
   ]
  },
  {
   "cell_type": "markdown",
   "metadata": {
    "deletable": false,
    "editable": false,
    "run_control": {
     "frozen": true
    }
   },
   "source": [
    "<blockquote>Dans un Notebook, vous pouvez modifier une cellule et la ré-exécuter autant que vous le souhaitez.</blockquote>"
   ]
  },
  {
   "cell_type": "markdown",
   "metadata": {
    "deletable": false,
    "editable": false,
    "run_control": {
     "frozen": true
    }
   },
   "source": [
    "* Réexécuter la cellule ci-dessus en réglant le paramètre a sur 3."
   ]
  },
  {
   "cell_type": "markdown",
   "metadata": {
    "deletable": false,
    "editable": false
   },
   "source": [
    "<blockquote><p>Lorsque vous exécutez une cellule, le temps d'exécution sur la machine peut varier d'une milliseconde à plusieurs minutes \n",
    "(pour un code impliquant de nombreux calculs). Une fois quoi que le code présent dans la cellule a fini d'être interprété,\n",
    "un nouveau numéro apparaît entre crochets dans le prompt ( par exemple : <b><font color = blue>In[10]</font></b> ).\n",
    "Cela correspond au nombre de cellules exécutées depuis le démarrage du _**Kernel**_.</p>\n",
    "\n",
    "<p><div class=\"alert alert-block alert-success\">\n",
    "<b>Qu'est ce qu'un kernel?</b><br>\n",
    "Un <b>kernel</b> (ou <b>noyau</b>) est un programme indépendant capable d'interpréter le langage dans lequel est écrit le code et de l'exécuter. Lorsque vous ouvrez un exercice pour la première fois, un kernel est automatiquement démarré.\n",
    "</div></p>\n",
    "\n",
    "<p>Parfois, plusieurs minutes passent et la cellule est toujours en train d'être exécutée, vous apercevez le _prompt_ <b><font color = blue> In[*]</font></b> sur le côté gauche, aucune sortie n'est affichée et aucune autre cellule ne peut être exécutée en même temps.</p>\n",
    "\n",
    "<p>Ceci peut être dû au fait que le code effectue une tâche importante (entraînement d'un réseau de neurones convolutif à 13 couches sur un échantillon d'apprentissage de 300000 images) ou simplement que dans votre code se trouve une boucle infinie qui empêche le _kernel_ de s'arrêter.</p>\n",
    "\n",
    "<p>Pour forcer l'interruption du _kernel_ vous pouvez utiliser le raccourci **Esc + I + I**. Si cela ne suffit pas, vous pouvez arrêter le kernel et le redémarrer, il suffit d'appuyer sur le bouton **Restart Kernel** en bas du menu de gauche (au dessus du voyant vert).</p>\n",
    "\n",
    "<p><div class=\"alert alert-block alert-warning\">\n",
    "Lorsque le <b>kernel</b> est redémarré, tous les objets crées sont supprimés, pensez dans ce cas à re-exécuter les cellules précedentes. \n",
    "</div></p>\n",
    "</blockquote>"
   ]
  },
  {
   "cell_type": "markdown",
   "metadata": {
    "deletable": false,
    "editable": false,
    "run_control": {
     "frozen": true
    }
   },
   "source": [
    "* Exécuter la cellule suivante et remédier au problème observé."
   ]
  },
  {
   "cell_type": "code",
   "execution_count": null,
   "metadata": {},
   "outputs": [],
   "source": [
    "i = 10\n",
    "while i < 12 :\n",
    "    print(\"Voici le nombre\", i)\n",
    "    i += 2"
   ]
  },
  {
   "cell_type": "markdown",
   "metadata": {
    "deletable": false,
    "editable": false,
    "run_control": {
     "frozen": true
    }
   },
   "source": [
    "<blockquote><p>Beaucoup de raccourcis claviers existent sur Jupyter et peuvent faciliter votre expérience utilisateur sur la plateforme.</p>\n",
    "\n",
    "<p>Par exemple, certaines questions contiendront plusieurs tâches à effectuer, qui afficheront plusieurs sorties. Pour un rendu visuellement plus agréable, vous pouvez avoir envie d'ajouter des cellules de code à remplir.</p>\n",
    "\n",
    "<p>Pour ajouter une cellule en dessous d'une autre, il est possible d'utiliser le raccourci : **Esc + B**.</p>\n",
    "\n",
    "<p>Lorsque vous ajoutez une cellule, vous obtenez automatiquement une cellule de code. Les cellules de code sont facilement repérables par le prompt **In[ ]**.</p>\n",
    "\n",
    "<p>Pour les transformer en cellules de texte (markdown) vous pouvez utiliser le raccourci: **Esc + M**, et pour la transformation inverse: **Esc + Y**.</p>\n",
    "</blockquote>"
   ]
  },
  {
   "cell_type": "markdown",
   "metadata": {
    "deletable": false,
    "editable": false,
    "run_control": {
     "frozen": true
    }
   },
   "source": [
    "* La cellule suivante est supposée afficher un graphique, identifier le problème et le résoudre à l'aide d'un raccourci."
   ]
  },
  {
   "cell_type": "raw",
   "metadata": {},
   "source": [
    "%matplotlib inline\n",
    "\n",
    "import numpy as np\n",
    "import matplotlib.pyplot as plt\n",
    "\n",
    "t = np.arange(0, 5, 0.2)\n",
    "\n",
    "plt.plot(t, t, 'b', label = \"x\")\n",
    "plt.plot(t, t**2, 'orange', linewidth=5, label= \"x²\")\n",
    "plt.plot(t, t**3, marker='D', label = \"x^3\")\n",
    "plt.ylim([0,50])\n",
    "plt.xlabel\n",
    "plt.legend()\n",
    "\n",
    "plt.show()"
   ]
  },
  {
   "cell_type": "code",
   "execution_count": 4,
   "metadata": {
    "deletable": false,
    "editable": false,
    "run_control": {
     "frozen": true
    }
   },
   "outputs": [
    {
     "data": {
      "text/html": [
       "\n",
       "        <script>\n",
       "            function code_toggle_14508220324977850936() {\n",
       "                $('div.cell.code_cell.rendered.selected').next().find('div.input').toggle();\n",
       "            }\n",
       "\n",
       "            $('div.cell.code_cell.rendered.selected').find(\"div.input\").hide();\n",
       "        </script>\n",
       "     \n",
       "        <form action=\"javascript:code_toggle_14508220324977850936()\"><input type=\"submit\" id=\"toggleButton\" value=\"Solution\" ></form>\n",
       "    "
      ],
      "text/plain": [
       "<IPython.core.display.HTML object>"
      ]
     },
     "execution_count": 4,
     "metadata": {},
     "output_type": "execute_result"
    }
   ],
   "source": [
    "hide_toggle(for_next=True)"
   ]
  },
  {
   "cell_type": "code",
   "execution_count": null,
   "metadata": {
    "deletable": false,
    "editable": false
   },
   "outputs": [],
   "source": [
    "\"\"\"\n",
    "La cellule ci dessus est intialement au format Markdown (texte)\n",
    "Esc + Y pour transformer la cellule en cellule de code\n",
    "\"\"\"\n",
    "\n",
    "%matplotlib inline\n",
    "\n",
    "import numpy as np\n",
    "import matplotlib.pyplot as plt\n",
    "\n",
    "t = np.arange(0, 5, 0.2)\n",
    "\n",
    "plt.plot(t, t, 'b', label = \"x\")\n",
    "plt.plot(t, t**2, 'orange', linewidth=5, label= \"x²\")\n",
    "plt.plot(t, t**3, marker='D', label = \"x^3\")\n",
    "plt.ylim([0,50])\n",
    "plt.legend()\n",
    "\n",
    "plt.show()"
   ]
  },
  {
   "cell_type": "markdown",
   "metadata": {
    "deletable": false,
    "editable": false,
    "run_control": {
     "frozen": true
    }
   },
   "source": [
    "<blockquote><p>Pour obtenir la liste des raccourcis disponibles, appuyer sur **Esc + H**.</p>\n",
    "\n",
    "<p>Il est également possible d'ouvrir la palette de commande à l'aide du raccourci: **Esc + P**.</p>\n",
    "</blockquote>"
   ]
  },
  {
   "cell_type": "markdown",
   "metadata": {
    "deletable": false,
    "editable": false,
    "run_control": {
     "frozen": true
    }
   },
   "source": [
    "<u><b><font size = 3 color = '#087CC5' face= 'arial'>Support</font></b></u>"
   ]
  },
  {
   "cell_type": "markdown",
   "metadata": {
    "deletable": false,
    "editable": false,
    "run_control": {
     "frozen": true
    }
   },
   "source": [
    "<blockquote><p>Le contenu proposé sur la plateforme est conçu pour vous permettre d'être le plus autonome possible dans votre apprentissage. Néanmoins, il possible que des interrogations subsistent, et dans ce cas notre équipe de Data Scientists vous attend sur **Slack**, la plateforme de messagerie collaborative.</p>\n",
    "\n",
    "<p><div class=\"alert alert-block alert-success\">\n",
    "<b> Slack ? </b><br>\n",
    "N'oubliez pas de rejoindre le workspace <b>Slack</b> dédié à votre groupe de formation afin d'avoir accès à notre support. \n",
    "Slack est indispensable pour communiquer avec l'équipe support et les autres utilisateurs de votre groupe de formation. Il s'agit de l'unique canal\n",
    "sur lequel seront publiées régulièrement les informations concernant votre formation. \n",
    "</div></p>\n",
    " \n",
    "<p><b>Si vous n'avez pas reçu d'invitations à votre workspace Slack</b>, vérifiez que le mail d'invitation ne s'est pas égaré dans vos courriers indésirables et le cas échéant envoyez un mail à <b>help@datascientest.com</b></p>\n",
    "\n",
    "<p>Le support par messagerie est disponible via notre compte de support <b>Daniel - DataScientest</b>. Daniel est disponible tous <b>les jours ouvrés</b> de 9h à 19h, afin répondre à vos questions d’ordre pédagogique, ou pour résoudre des soucis liés à un problème technique.</p>\n",
    "\n",
    "<p>En cas de problème en dehors des heures des support, vous pouvez également poser vos questions urgentes 24/24 7/7 à l'adresse <b>help@datascientest.com</b>. Pensez à apporter à votre message un maximum de détail :</p><br>\n",
    "<li type=disc> Une capture d'écran (screenshot) de votre problème</li>\n",
    "<li type=disc>Le contexte</li>\n",
    "<li type=disc>Comment reproduire votre problème etc...</li>\n",
    "</blockquote>\n"
   ]
  },
  {
   "cell_type": "markdown",
   "metadata": {
    "deletable": false,
    "editable": false,
    "run_control": {
     "frozen": true
    }
   },
   "source": [
    "<u><b><font size = 3 color = '#087CC5' face= 'arial'>Feedbacks</font></b></u>"
   ]
  },
  {
   "cell_type": "markdown",
   "metadata": {
    "deletable": false,
    "editable": false,
    "run_control": {
     "frozen": true
    }
   },
   "source": [
    "<blockquote><p>Nul n'est parfait, pas même l'équipe de formateurs ! <b>Nous sommes à l'écoute de vos feedbacks en permanence</b>. Il est possible :</p><br>\n",
    "\n",
    "<li type=disc> D'attribuer une note et/ou un commentaire à <b>chaque exercice</b> validé directement sur notre plateforme en cliquant sur l'étoile qui apparait à côté du nom de l'exercice.</li>\n",
    "<li type=disc> D'apporter un feedback plus complet à l'échelle du <b>module</b> dans le formulaire Google suivant : https://goo.gl/forms/qbuEVcJtJjQGMLhi2 _Attention : il est possible que votre réseau d'entreprise vous empêche d'ouvrir les formulaires Google_.</li>\n",
    "</blockquote>"
   ]
  },
  {
   "cell_type": "markdown",
   "metadata": {
    "deletable": false,
    "editable": false,
    "run_control": {
     "frozen": true
    }
   },
   "source": [
    "<u><b><font size = 3 color = '#087CC5' face= 'arial'>Les évaluations</font></b></u>"
   ]
  },
  {
   "cell_type": "markdown",
   "metadata": {
    "deletable": false,
    "editable": false,
    "run_control": {
     "frozen": true
    }
   },
   "source": [
    "<blockquote><p>Lorsque tous les workshops d'un module sont validés, l'évaluation associée se débloque et apparaît sur votre **Dashboard**. L'évaluation a pour objectif de valider vos acquis appris lors du module.</p> \n",
    "\n",
    "<p>Une évaluation débloquée reste accessible dans votre dashboard dans le bloc **Évaluations disponibles** pendant 7 jours. Si vous dépassez ce délai demandez une nouvelle invitation à **Daniel**.</p> \n",
    "\n",
    "<p>Les résultats de vos évaluations vous sont communiqués dans un délai maximum de **48 heures ouvrées**.</p><br>\n",
    "\n",
    "<li type=disc> En cas de succès, vous recevrez un mail contenant votre certification et son numéro de licence.</li> \n",
    "<li type=disc> En cas d'échec, il vous sera possible de repasser l'évaluation **jusqu'à 3 fois**. Nous vous recommandons fortement de travailler les notions qui vous ont semblées difficiles entre chaque passage.</li>\n",
    "    \n",
    "<p>Comme précisé dans le parcours pédagogique, certains modules ne possèdent pas d'évaluations. Ils sont dans ce cas une préparation à une évaluation future.</p> \n",
    "\n",
    "<p>**Si vous n'avez pas reçu votre parcours pédagogique**, n'hésitez pas à solliciter **Daniel** pour vous informer sur les modules qui sont associés à une certification.</p>\n",
    "\n",
    "<div class=\"alert alert-block alert-info\">\n",
    "Le taux de réussite d'un examen au premier passage peut être inférieur à 50% pour certains modules. Anticipez donc plusieurs passages dans le cas où vous devez finir votre examen avant une date butoir. \n",
    "</div>\n",
    "\n",
    "<p>**Félicitations !** Vous êtes arrivé(e) à la fin de votre premier workshop. N'oubliez pas de le **valider** à l'aide du bouton en fin de notebook.</p>\n",
    "</blockquote>"
   ]
  },
  {
   "cell_type": "markdown",
   "metadata": {
    "deletable": false,
    "editable": false,
    "run_control": {
     "frozen": true
    }
   },
   "source": [
    "* Cliquer sur le bouton **Valider** pour terminer cet exercice d'introduction et débloquer l'évaluation associée. \n",
    "* Laisser un feedback sur l'exercice validé pour nous confirmer que vous avez bien lu ce notebook :-)"
   ]
  },
  {
   "cell_type": "markdown",
   "metadata": {
    "deletable": false,
    "editable": false,
    "run_control": {
     "frozen": true
    }
   },
   "source": [
    "<div class=\"alert alert-block alert-danger\">\n",
    "Vous devez passer l'évaluation dans un délai maximal de 7 jours. \n",
    "</div>"
   ]
  },
  {
   "cell_type": "markdown",
   "metadata": {
    "deletable": false,
    "editable": false,
    "run_control": {
     "frozen": true
    }
   },
   "source": [
    "<img src=\"congrats1.png\" ,height=120 ,width=120>"
   ]
  }
 ],
 "metadata": {
  "kernelspec": {
   "display_name": "Python 3",
   "language": "python",
   "name": "python3"
  },
  "language_info": {
   "codemirror_mode": {
    "name": "ipython",
    "version": 3
   },
   "file_extension": ".py",
   "mimetype": "text/x-python",
   "name": "python",
   "nbconvert_exporter": "python",
   "pygments_lexer": "ipython3",
   "version": "3.6.5"
  },
  "nteract": {
   "version": "0.15.0"
  }
 },
 "nbformat": 4,
 "nbformat_minor": 2
}
